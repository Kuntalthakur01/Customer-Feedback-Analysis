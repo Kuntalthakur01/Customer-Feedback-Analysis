{
  "nbformat": 4,
  "nbformat_minor": 0,
  "metadata": {
    "colab": {
      "provenance": []
    },
    "kernelspec": {
      "name": "python3",
      "display_name": "Python 3"
    },
    "language_info": {
      "name": "python"
    }
  },
  "cells": [
    {
      "cell_type": "code",
      "source": [
        "import pandas as pd\n",
        "import re\n",
        "import nltk\n",
        "from nltk.corpus import stopwords\n",
        "import matplotlib.pyplot as plt\n",
        "import seaborn as sns\n",
        "from sklearn.model_selection import train_test_split\n",
        "from sklearn.feature_extraction.text import CountVectorizer\n",
        "from sklearn.linear_model import LogisticRegression\n",
        "from sklearn.metrics import accuracy_score, classification_report\n",
        "\n",
        "# Load the dataset\n",
        "df = pd.read_csv('/content/data.csv', encoding='latin1')\n",
        "\n",
        "# Display the first few rows of the dataset\n",
        "print(df.head())\n",
        "\n",
        "# Check for null values and data types\n",
        "print(df.info())\n",
        "\n",
        "# Clean the 'Rating' column to convert it to numeric values\n",
        "df['Rating'] = df['Rating'].str.extract('(\\d+\\.?\\d*)').astype(float)\n",
        "\n",
        "# Function to clean text\n",
        "def clean_text(text):\n",
        "    text = re.sub(r'[^\\w\\s]', '', text)  # Remove punctuation\n",
        "    text = text.lower()  # Convert to lowercase\n",
        "    text = text.split()  # Split into words\n",
        "    text = [word for word in text if word not in stopwords.words('english')]  # Remove stopwords\n",
        "    return ' '.join(text)\n",
        "\n",
        "# Download the stopwords\n",
        "nltk.download('stopwords')\n",
        "\n",
        "# Apply the clean_text function to the Comments column\n",
        "df['cleaned_comments'] = df['Comments'].apply(clean_text)\n",
        "\n",
        "# Exploratory Data Analysis\n",
        "# Plot the distribution of ratings\n",
        "plt.figure(figsize=(8, 6))\n",
        "sns.countplot(data=df, x='Rating')\n",
        "plt.title('Distribution of Ratings')\n",
        "plt.xlabel('Rating')\n",
        "plt.ylabel('Count')\n",
        "plt.show()\n",
        "\n",
        "# Prepare the dataset for sentiment analysis\n",
        "# Create labels: 1 for positive (rating 4 or 5), 0 for negative (rating 1, 2, or 3)\n",
        "df['Sentiment'] = (df['Rating'] >= 4).astype(int)\n",
        "\n",
        "# Vectorize the cleaned comments\n",
        "vectorizer = CountVectorizer()\n",
        "X = vectorizer.fit_transform(df['cleaned_comments'])\n",
        "\n",
        "# Prepare labels\n",
        "y = df['Sentiment']\n",
        "\n",
        "# Split the dataset into training and testing sets\n",
        "X_train, X_test, y_train, y_test = train_test_split(X, y, test_size=0.2, random_state=42)\n",
        "\n",
        "# Train a logistic regression model\n",
        "model = LogisticRegression()\n",
        "model.fit(X_train, y_train)\n",
        "\n",
        "# Predict on the test set\n",
        "y_pred = model.predict(X_test)\n",
        "\n",
        "\n"
      ],
      "metadata": {
        "colab": {
          "base_uri": "https://localhost:8080/",
          "height": 1328
        },
        "id": "BQuTuBbsIleC",
        "outputId": "8d321e11-8474-4924-a5a3-fc60d4d90ca3"
      },
      "execution_count": 6,
      "outputs": [
        {
          "output_type": "stream",
          "name": "stdout",
          "text": [
            "                                   Review Title             Customer name  \\\n",
            "0  Another Midrange killer Smartphone by Xiaomi         Rishikumar Thakur   \n",
            "1                         vry small size mobile                   Raza ji   \n",
            "2  Full display not working in all application.             Vaibhav Patel   \n",
            "3                               Value for Money           Amazon Customer   \n",
            "4                       Not worth for the money  Sudhakaran Wadakkancheri   \n",
            "\n",
            "               Rating                  Date Category  \\\n",
            "0  4.0 out of 5 stars     on 1 October 2018  Display   \n",
            "1  3.0 out of 5 stars  on 15 September 2018   Others   \n",
            "2  3.0 out of 5 stars  on 18 September 2018   Others   \n",
            "3  5.0 out of 5 stars  on 28 September 2018  Display   \n",
            "4  2.0 out of 5 stars  on 18 September 2018   Others   \n",
            "\n",
            "                                            Comments  \\\n",
            "0  Another Midrange killer Smartphone by Xiaomi\\n...   \n",
            "1                   All ok but vry small size mobile   \n",
            "2                                         Quite good   \n",
            "3  Redmi has always have been the the king of bud...   \n",
            "4  worst product from MI. I am a hardcore fan of ...   \n",
            "\n",
            "                        Useful  \n",
            "0                               \n",
            "1  7 people found this helpful  \n",
            "2  7 people found this helpful  \n",
            "3  2 people found this helpful  \n",
            "4  6 people found this helpful  \n",
            "<class 'pandas.core.frame.DataFrame'>\n",
            "RangeIndex: 280 entries, 0 to 279\n",
            "Data columns (total 7 columns):\n",
            " #   Column         Non-Null Count  Dtype \n",
            "---  ------         --------------  ----- \n",
            " 0   Review Title   280 non-null    object\n",
            " 1   Customer name  280 non-null    object\n",
            " 2   Rating         280 non-null    object\n",
            " 3   Date           280 non-null    object\n",
            " 4   Category       280 non-null    object\n",
            " 5   Comments       280 non-null    object\n",
            " 6   Useful         110 non-null    object\n",
            "dtypes: object(7)\n",
            "memory usage: 15.4+ KB\n",
            "None\n"
          ]
        },
        {
          "output_type": "stream",
          "name": "stderr",
          "text": [
            "[nltk_data] Downloading package stopwords to /root/nltk_data...\n",
            "[nltk_data]   Package stopwords is already up-to-date!\n"
          ]
        },
        {
          "output_type": "display_data",
          "data": {
            "text/plain": [
              "<Figure size 800x600 with 1 Axes>"
            ],
            "image/png": "[encoded data removed]"
          },
          "metadata": {}
        }
      ]
    },
    {
      "cell_type": "code",
      "source": [
        "# Evaluate the model\n",
        "print(\"Accuracy:\", accuracy_score(y_test, y_pred))\n",
        "print(classification_report(y_test, y_pred))"
      ],
      "metadata": {
        "colab": {
          "base_uri": "https://localhost:8080/",
          "height": 0
        },
        "id": "QyNxHiaNInlU",
        "outputId": "092ccdf5-1729-46f5-90b0-d220db22362f"
      },
      "execution_count": 7,
      "outputs": [
        {
          "output_type": "stream",
          "name": "stdout",
          "text": [
            "Accuracy: 0.8571428571428571\n",
            "              precision    recall  f1-score   support\n",
            "\n",
            "           0       0.67      0.67      0.67        12\n",
            "           1       0.91      0.91      0.91        44\n",
            "\n",
            "    accuracy                           0.86        56\n",
            "   macro avg       0.79      0.79      0.79        56\n",
            "weighted avg       0.86      0.86      0.86        56\n",
            "\n"
          ]
        }
      ]
    },
    {
      "cell_type": "code",
      "source": [],
      "metadata": {
        "id": "rLBRqVhdI7Vs"
      },
      "execution_count": null,
      "outputs": []
    }
  ]
}